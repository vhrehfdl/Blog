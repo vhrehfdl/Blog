{
  "nbformat": 4,
  "nbformat_minor": 0,
  "metadata": {
    "colab": {
      "name": "슬기로운 자연어처리 [5] 형태소 분석기.ipynb",
      "provenance": []
    },
    "kernelspec": {
      "name": "python3",
      "display_name": "Python 3"
    }
  },
  "cells": [
    {
      "cell_type": "markdown",
      "metadata": {
        "id": "qHxVKOfbMrXM",
        "colab_type": "text"
      },
      "source": [
        "# Konlpy"
      ]
    },
    {
      "cell_type": "code",
      "metadata": {
        "id": "jYYHhEQ8MpEE",
        "colab_type": "code",
        "colab": {
          "base_uri": "https://localhost:8080/",
          "height": 501
        },
        "outputId": "b60f4292-5988-43d4-faa8-c67adfb4a68c"
      },
      "source": [
        "!pip install konlpy"
      ],
      "execution_count": null,
      "outputs": [
        {
          "output_type": "stream",
          "text": [
            "Collecting konlpy\n",
            "\u001b[?25l  Downloading https://files.pythonhosted.org/packages/85/0e/f385566fec837c0b83f216b2da65db9997b35dd675e107752005b7d392b1/konlpy-0.5.2-py2.py3-none-any.whl (19.4MB)\n",
            "\u001b[K     |████████████████████████████████| 19.4MB 1.5MB/s \n",
            "\u001b[?25hRequirement already satisfied: lxml>=4.1.0 in /usr/local/lib/python3.6/dist-packages (from konlpy) (4.2.6)\n",
            "Collecting tweepy>=3.7.0\n",
            "  Downloading https://files.pythonhosted.org/packages/bb/7c/99d51f80f3b77b107ebae2634108717362c059a41384a1810d13e2429a81/tweepy-3.9.0-py2.py3-none-any.whl\n",
            "Requirement already satisfied: numpy>=1.6 in /usr/local/lib/python3.6/dist-packages (from konlpy) (1.18.5)\n",
            "Collecting JPype1>=0.7.0\n",
            "\u001b[?25l  Downloading https://files.pythonhosted.org/packages/8b/f7/a368401e630f0e390dd0e62c39fb928e5b23741b53c2360ee7d376660927/JPype1-1.0.2-cp36-cp36m-manylinux2010_x86_64.whl (3.8MB)\n",
            "\u001b[K     |████████████████████████████████| 3.8MB 46.3MB/s \n",
            "\u001b[?25hCollecting beautifulsoup4==4.6.0\n",
            "\u001b[?25l  Downloading https://files.pythonhosted.org/packages/9e/d4/10f46e5cfac773e22707237bfcd51bbffeaf0a576b0a847ec7ab15bd7ace/beautifulsoup4-4.6.0-py3-none-any.whl (86kB)\n",
            "\u001b[K     |████████████████████████████████| 92kB 9.2MB/s \n",
            "\u001b[?25hCollecting colorama\n",
            "  Downloading https://files.pythonhosted.org/packages/c9/dc/45cdef1b4d119eb96316b3117e6d5708a08029992b2fee2c143c7a0a5cc5/colorama-0.4.3-py2.py3-none-any.whl\n",
            "Requirement already satisfied: requests-oauthlib>=0.7.0 in /usr/local/lib/python3.6/dist-packages (from tweepy>=3.7.0->konlpy) (1.3.0)\n",
            "Requirement already satisfied: requests[socks]>=2.11.1 in /usr/local/lib/python3.6/dist-packages (from tweepy>=3.7.0->konlpy) (2.23.0)\n",
            "Requirement already satisfied: six>=1.10.0 in /usr/local/lib/python3.6/dist-packages (from tweepy>=3.7.0->konlpy) (1.15.0)\n",
            "Requirement already satisfied: typing-extensions; python_version < \"3.8\" in /usr/local/lib/python3.6/dist-packages (from JPype1>=0.7.0->konlpy) (3.7.4.2)\n",
            "Requirement already satisfied: oauthlib>=3.0.0 in /usr/local/lib/python3.6/dist-packages (from requests-oauthlib>=0.7.0->tweepy>=3.7.0->konlpy) (3.1.0)\n",
            "Requirement already satisfied: idna<3,>=2.5 in /usr/local/lib/python3.6/dist-packages (from requests[socks]>=2.11.1->tweepy>=3.7.0->konlpy) (2.10)\n",
            "Requirement already satisfied: urllib3!=1.25.0,!=1.25.1,<1.26,>=1.21.1 in /usr/local/lib/python3.6/dist-packages (from requests[socks]>=2.11.1->tweepy>=3.7.0->konlpy) (1.24.3)\n",
            "Requirement already satisfied: certifi>=2017.4.17 in /usr/local/lib/python3.6/dist-packages (from requests[socks]>=2.11.1->tweepy>=3.7.0->konlpy) (2020.6.20)\n",
            "Requirement already satisfied: chardet<4,>=3.0.2 in /usr/local/lib/python3.6/dist-packages (from requests[socks]>=2.11.1->tweepy>=3.7.0->konlpy) (3.0.4)\n",
            "Requirement already satisfied: PySocks!=1.5.7,>=1.5.6; extra == \"socks\" in /usr/local/lib/python3.6/dist-packages (from requests[socks]>=2.11.1->tweepy>=3.7.0->konlpy) (1.7.1)\n"
          ],
          "name": "stdout"
        }
      ]
    },
    {
      "cell_type": "markdown",
      "metadata": {
        "id": "joHjwazAgmf8",
        "colab_type": "text"
      },
      "source": [
        "## Kkma 형태소 분석기"
      ]
    },
    {
      "cell_type": "code",
      "metadata": {
        "id": "rgjqxKCXMrG8",
        "colab_type": "code",
        "colab": {}
      },
      "source": [
        "from konlpy.tag import Kkma\n",
        "kkma = Kkma()\n",
        "print(kkma.sentences('아버지가 방에 들어가신다.'))\n",
        "print(kkma.nouns('아버지가 방에 들어가신다.'))\n",
        "print(kkma.pos('아버지가 방에 들어가신다.'))"
      ],
      "execution_count": null,
      "outputs": []
    },
    {
      "cell_type": "markdown",
      "metadata": {
        "id": "ycL4OfTPgpEs",
        "colab_type": "text"
      },
      "source": [
        "## Komoran 형태소 분석기"
      ]
    },
    {
      "cell_type": "code",
      "metadata": {
        "id": "ADFZES4mNCQO",
        "colab_type": "code",
        "colab": {}
      },
      "source": [
        "from konlpy.tag import Komoran\n",
        "komoran = Komoran()\n",
        "print(komoran.morphs('아버지가 방에 들어가신다.'))\n",
        "print(komoran.nouns('아버지가 방에 들어가신다.'))\n",
        "print(komoran.pos('아버지가 방에 들어가신다.'))"
      ],
      "execution_count": null,
      "outputs": []
    },
    {
      "cell_type": "markdown",
      "metadata": {
        "id": "5az4u_cPg7DP",
        "colab_type": "text"
      },
      "source": [
        "## Twitter 형태소 분석기"
      ]
    },
    {
      "cell_type": "code",
      "metadata": {
        "id": "Lb1eN_sCNcfS",
        "colab_type": "code",
        "colab": {}
      },
      "source": [
        "from konlpy.tag import Twitter\n",
        "twitter = Twitter()\n",
        "print(twitter.morphs('아버지가 방에 들어가신다.'))\n",
        "print(twitter.nouns('아버지가 방에 들어가신다.'))\n",
        "print(twitter.pos('아버지가 방에 들어가신다.'))"
      ],
      "execution_count": null,
      "outputs": []
    },
    {
      "cell_type": "markdown",
      "metadata": {
        "id": "YGZxoGkng9gf",
        "colab_type": "text"
      },
      "source": [
        "## Hannanum 형태소 분석기"
      ]
    },
    {
      "cell_type": "code",
      "metadata": {
        "id": "P2H91hFEN8OV",
        "colab_type": "code",
        "colab": {}
      },
      "source": [
        "from konlpy.tag import Hannanum\n",
        "hannanum = Hannanum()\n",
        "print(hannanum.morphs('아버지가 방에 들어가신다.'))\n",
        "print(hannanum.nouns('아버지가 방에 들어가신다.'))\n",
        "print(hannanum.pos('아버지가 방에 들어가신다.'))"
      ],
      "execution_count": null,
      "outputs": []
    },
    {
      "cell_type": "markdown",
      "metadata": {
        "id": "_2khW7zIhAY5",
        "colab_type": "text"
      },
      "source": [
        "## Mecab 형태소 분석기"
      ]
    },
    {
      "cell_type": "code",
      "metadata": {
        "id": "ruRdjJ6oTs2C",
        "colab_type": "code",
        "colab": {}
      },
      "source": [
        "!pip install konlpy\n",
        "!git clone https://github.com/SOMJANG/Mecab-ko-for-Google-Colab.git\n",
        "%cd Mecab-ko-for-Google-Colab\n",
        "!bash install_mecab-ko_on_colab190912.sh"
      ],
      "execution_count": null,
      "outputs": []
    },
    {
      "cell_type": "code",
      "metadata": {
        "id": "x6yOFEtISmw9",
        "colab_type": "code",
        "colab": {}
      },
      "source": [
        "from konlpy.tag import Mecab\n",
        "mecab = Mecab()\n",
        "print(mecab.morphs('아버지가 방에 들어가신다.'))\n",
        "print(mecab.nouns('아버지가 방에 들어가신다.'))\n",
        "print(mecab.pos('아버지가 방에 들어가신다.'))"
      ],
      "execution_count": null,
      "outputs": []
    },
    {
      "cell_type": "markdown",
      "metadata": {
        "id": "aQ-EeDUmQ-x0",
        "colab_type": "text"
      },
      "source": [
        "# khaiii"
      ]
    },
    {
      "cell_type": "code",
      "metadata": {
        "id": "7eKVymthO_lZ",
        "colab_type": "code",
        "colab": {}
      },
      "source": [
        "!git clone https://github.com/kakao/khaiii.git\n",
        "!pip install cmake\n",
        "!mkdir build\n",
        "!cd build && cmake /content/khaiii\n",
        "!cd /content/build/ && make all\n",
        "!cd /content/build/ && make resource\n",
        "!cd /content/build && make install\n",
        "!cd /content/build && make package_python\n",
        "!pip install /content/build/package_python"
      ],
      "execution_count": null,
      "outputs": []
    },
    {
      "cell_type": "code",
      "metadata": {
        "id": "bdPOASDZSZNt",
        "colab_type": "code",
        "colab": {}
      },
      "source": [
        "from khaiii import KhaiiiApi\n",
        "khaiii = KhaiiiApi()\n",
        "for word in khaiii.analyze(\"아버지가 방에 들어가신다.\"):\n",
        "  print(word)"
      ],
      "execution_count": null,
      "outputs": []
    }
  ]
}